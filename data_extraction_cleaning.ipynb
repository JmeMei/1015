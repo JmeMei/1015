{
 "cells": [
  {
   "cell_type": "code",
   "execution_count": 18,
   "id": "a8de3c05-15c8-4020-aa4d-ff124f77bfd1",
   "metadata": {},
   "outputs": [],
   "source": [
    "# Basic Libraries\n",
    "import numpy as np\n",
    "import pandas as pd\n",
    "import seaborn as sb\n",
    "import matplotlib.pyplot as plt\n",
    "from sklearn.tree import DecisionTreeClassifier\n",
    "from sklearn.model_selection import train_test_split\n",
    "from sklearn.metrics import confusion_matrix\n",
    "from sklearn.tree import plot_tree\n",
    "sb.set()\n",
    "import re\n",
    "\n",
    "from sklearn.preprocessing import StandardScaler, LabelEncoder\n",
    "from sklearn.neighbors import KNeighborsRegressor, KNeighborsClassifier\n",
    "from sklearn.metrics import mean_squared_error, r2_score"
   ]
  },
  {
   "cell_type": "code",
   "execution_count": 19,
   "id": "c5d176fc-cd42-4aec-9672-4b0c4e7fe2e5",
   "metadata": {},
   "outputs": [
    {
     "data": {
      "text/html": [
       "<div>\n",
       "<style scoped>\n",
       "    .dataframe tbody tr th:only-of-type {\n",
       "        vertical-align: middle;\n",
       "    }\n",
       "\n",
       "    .dataframe tbody tr th {\n",
       "        vertical-align: top;\n",
       "    }\n",
       "\n",
       "    .dataframe thead th {\n",
       "        text-align: right;\n",
       "    }\n",
       "</style>\n",
       "<table border=\"1\" class=\"dataframe\">\n",
       "  <thead>\n",
       "    <tr style=\"text-align: right;\">\n",
       "      <th></th>\n",
       "      <th>laptop_ID</th>\n",
       "      <th>Company</th>\n",
       "      <th>Product</th>\n",
       "      <th>TypeName</th>\n",
       "      <th>Inches</th>\n",
       "      <th>ScreenResolution</th>\n",
       "      <th>Cpu</th>\n",
       "      <th>Ram</th>\n",
       "      <th>Memory</th>\n",
       "      <th>Gpu</th>\n",
       "      <th>OpSys</th>\n",
       "      <th>Weight</th>\n",
       "      <th>Price_euros</th>\n",
       "    </tr>\n",
       "  </thead>\n",
       "  <tbody>\n",
       "    <tr>\n",
       "      <th>0</th>\n",
       "      <td>1</td>\n",
       "      <td>Apple</td>\n",
       "      <td>MacBook Pro</td>\n",
       "      <td>Ultrabook</td>\n",
       "      <td>13.3</td>\n",
       "      <td>IPS Panel Retina Display 2560x1600</td>\n",
       "      <td>Intel Core i5 2.3GHz</td>\n",
       "      <td>8GB</td>\n",
       "      <td>128GB SSD</td>\n",
       "      <td>Intel Iris Plus Graphics 640</td>\n",
       "      <td>macOS</td>\n",
       "      <td>1.37kg</td>\n",
       "      <td>1339.69</td>\n",
       "    </tr>\n",
       "    <tr>\n",
       "      <th>1</th>\n",
       "      <td>2</td>\n",
       "      <td>Apple</td>\n",
       "      <td>Macbook Air</td>\n",
       "      <td>Ultrabook</td>\n",
       "      <td>13.3</td>\n",
       "      <td>1440x900</td>\n",
       "      <td>Intel Core i5 1.8GHz</td>\n",
       "      <td>8GB</td>\n",
       "      <td>128GB Flash Storage</td>\n",
       "      <td>Intel HD Graphics 6000</td>\n",
       "      <td>macOS</td>\n",
       "      <td>1.34kg</td>\n",
       "      <td>898.94</td>\n",
       "    </tr>\n",
       "    <tr>\n",
       "      <th>2</th>\n",
       "      <td>3</td>\n",
       "      <td>HP</td>\n",
       "      <td>250 G6</td>\n",
       "      <td>Notebook</td>\n",
       "      <td>15.6</td>\n",
       "      <td>Full HD 1920x1080</td>\n",
       "      <td>Intel Core i5 7200U 2.5GHz</td>\n",
       "      <td>8GB</td>\n",
       "      <td>256GB SSD</td>\n",
       "      <td>Intel HD Graphics 620</td>\n",
       "      <td>No OS</td>\n",
       "      <td>1.86kg</td>\n",
       "      <td>575.00</td>\n",
       "    </tr>\n",
       "    <tr>\n",
       "      <th>3</th>\n",
       "      <td>4</td>\n",
       "      <td>Apple</td>\n",
       "      <td>MacBook Pro</td>\n",
       "      <td>Ultrabook</td>\n",
       "      <td>15.4</td>\n",
       "      <td>IPS Panel Retina Display 2880x1800</td>\n",
       "      <td>Intel Core i7 2.7GHz</td>\n",
       "      <td>16GB</td>\n",
       "      <td>512GB SSD</td>\n",
       "      <td>AMD Radeon Pro 455</td>\n",
       "      <td>macOS</td>\n",
       "      <td>1.83kg</td>\n",
       "      <td>2537.45</td>\n",
       "    </tr>\n",
       "    <tr>\n",
       "      <th>4</th>\n",
       "      <td>5</td>\n",
       "      <td>Apple</td>\n",
       "      <td>MacBook Pro</td>\n",
       "      <td>Ultrabook</td>\n",
       "      <td>13.3</td>\n",
       "      <td>IPS Panel Retina Display 2560x1600</td>\n",
       "      <td>Intel Core i5 3.1GHz</td>\n",
       "      <td>8GB</td>\n",
       "      <td>256GB SSD</td>\n",
       "      <td>Intel Iris Plus Graphics 650</td>\n",
       "      <td>macOS</td>\n",
       "      <td>1.37kg</td>\n",
       "      <td>1803.60</td>\n",
       "    </tr>\n",
       "  </tbody>\n",
       "</table>\n",
       "</div>"
      ],
      "text/plain": [
       "   laptop_ID Company      Product   TypeName  Inches  \\\n",
       "0          1   Apple  MacBook Pro  Ultrabook    13.3   \n",
       "1          2   Apple  Macbook Air  Ultrabook    13.3   \n",
       "2          3      HP       250 G6   Notebook    15.6   \n",
       "3          4   Apple  MacBook Pro  Ultrabook    15.4   \n",
       "4          5   Apple  MacBook Pro  Ultrabook    13.3   \n",
       "\n",
       "                     ScreenResolution                         Cpu   Ram  \\\n",
       "0  IPS Panel Retina Display 2560x1600        Intel Core i5 2.3GHz   8GB   \n",
       "1                            1440x900        Intel Core i5 1.8GHz   8GB   \n",
       "2                   Full HD 1920x1080  Intel Core i5 7200U 2.5GHz   8GB   \n",
       "3  IPS Panel Retina Display 2880x1800        Intel Core i7 2.7GHz  16GB   \n",
       "4  IPS Panel Retina Display 2560x1600        Intel Core i5 3.1GHz   8GB   \n",
       "\n",
       "                Memory                           Gpu  OpSys  Weight  \\\n",
       "0            128GB SSD  Intel Iris Plus Graphics 640  macOS  1.37kg   \n",
       "1  128GB Flash Storage        Intel HD Graphics 6000  macOS  1.34kg   \n",
       "2            256GB SSD         Intel HD Graphics 620  No OS  1.86kg   \n",
       "3            512GB SSD            AMD Radeon Pro 455  macOS  1.83kg   \n",
       "4            256GB SSD  Intel Iris Plus Graphics 650  macOS  1.37kg   \n",
       "\n",
       "   Price_euros  \n",
       "0      1339.69  \n",
       "1       898.94  \n",
       "2       575.00  \n",
       "3      2537.45  \n",
       "4      1803.60  "
      ]
     },
     "execution_count": 19,
     "metadata": {},
     "output_type": "execute_result"
    }
   ],
   "source": [
    "laptop_data = pd.read_csv('./laptop_price.csv', encoding='latin-1')\n",
    "laptop_data.head()"
   ]
  },
  {
   "cell_type": "code",
   "execution_count": 20,
   "id": "32a0e864-06fa-40ce-b8d6-74c04a394c62",
   "metadata": {},
   "outputs": [
    {
     "name": "stdout",
     "output_type": "stream",
     "text": [
      "Data type :  <class 'pandas.core.frame.DataFrame'>\n",
      "Data dims :  (1303, 13)\n"
     ]
    }
   ],
   "source": [
    "print(\"Data type : \", type(laptop_data))\n",
    "print(\"Data dims : \", laptop_data.shape)"
   ]
  },
  {
   "cell_type": "code",
   "execution_count": 33,
   "id": "2c4fab45",
   "metadata": {},
   "outputs": [
    {
     "name": "stdout",
     "output_type": "stream",
     "text": [
      "Duplications: 0\n",
      "Since there are not duplicated sets, there is no need to remove\n"
     ]
    }
   ],
   "source": [
    "#Check if there are duplications\n",
    "duplicate = laptop_data.duplicated().sum()\n",
    "print(\"Duplications: \" + str(duplicate))\n",
    "print(\"Since there are not duplicated sets, there is no need to remove\")"
   ]
  },
  {
   "cell_type": "code",
   "execution_count": 22,
   "id": "7b1191b3-5e13-4500-b7cb-b025163069f4",
   "metadata": {},
   "outputs": [
    {
     "data": {
      "text/plain": [
       "0          1\n",
       "1          2\n",
       "2          3\n",
       "3          4\n",
       "4          5\n",
       "        ... \n",
       "1298    1316\n",
       "1299    1317\n",
       "1300    1318\n",
       "1301    1319\n",
       "1302    1320\n",
       "Name: laptop_ID, Length: 1303, dtype: int64"
      ]
     },
     "execution_count": 22,
     "metadata": {},
     "output_type": "execute_result"
    }
   ],
   "source": [
    "#Removing the laptop ID column\n",
    "laptop_data_clean = laptop_data.copy()\n",
    "laptop_data_clean.pop('laptop_ID')"
   ]
  },
  {
   "cell_type": "code",
   "execution_count": 23,
   "id": "a721da95-55fd-4ffe-b45e-5c4f8b635f20",
   "metadata": {},
   "outputs": [
    {
     "data": {
      "text/plain": [
       "0             IPSPanelRetinaDisplay2560x1600\n",
       "1                                   1440x900\n",
       "2                            FullHD1920x1080\n",
       "3             IPSPanelRetinaDisplay2880x1800\n",
       "4             IPSPanelRetinaDisplay2560x1600\n",
       "                        ...                 \n",
       "1298     IPSPanelFullHD/Touchscreen1920x1080\n",
       "1299    IPSPanelQuadHD+/Touchscreen3200x1800\n",
       "1300                                1366x768\n",
       "1301                                1366x768\n",
       "1302                                1366x768\n",
       "Name: ScreenResolution, Length: 1303, dtype: object"
      ]
     },
     "execution_count": 23,
     "metadata": {},
     "output_type": "execute_result"
    }
   ],
   "source": [
    "#Combining the string together for preparation to take only the resolution\n",
    "laptop_data_clean[\"ScreenResolution\"] = laptop_data_clean[\"ScreenResolution\"].str.replace(\" \", \"\")\n",
    "laptop_data_clean[\"ScreenResolution\"]"
   ]
  },
  {
   "cell_type": "code",
   "execution_count": 24,
   "id": "892955ee",
   "metadata": {},
   "outputs": [
    {
     "data": {
      "text/plain": [
       "0       2560x1600\n",
       "1        1440x900\n",
       "2       1920x1080\n",
       "3       2880x1800\n",
       "4       2560x1600\n",
       "          ...    \n",
       "1298    1920x1080\n",
       "1299    3200x1800\n",
       "1300     1366x768\n",
       "1301     1366x768\n",
       "1302     1366x768\n",
       "Name: ScreenResolution, Length: 1303, dtype: object"
      ]
     },
     "execution_count": 24,
     "metadata": {},
     "output_type": "execute_result"
    }
   ],
   "source": [
    "#Cleaned \"ScreenResolution\" column\n",
    "laptop_data_clean[\"ScreenResolution\"] = laptop_data_clean[\"ScreenResolution\"].astype(str)\n",
    "laptop_data_clean[\"ScreenResolution\"] = laptop_data_clean[\"ScreenResolution\"].str[-9:]\n",
    "laptop_data_clean[\"ScreenResolution\"]"
   ]
  },
  {
   "cell_type": "code",
   "execution_count": 25,
   "id": "d27325e4",
   "metadata": {},
   "outputs": [],
   "source": [
    "# Function to clean the Product column (remove item in brackets)\n",
    "def clean_string(string, splitchar):\n",
    "    cleaned_string = string.split(splitchar)[0].strip()\n",
    "    return cleaned_string\n",
    "\n",
    "#Removing the specs from the product name\n",
    "laptop_data_clean['Product'] = laptop_data_clean['Product'].apply(lambda x: clean_string(x, '('))\n",
    "\n",
    "#Removing the unit since all of them are GB, making it numerical instead of string\n",
    "laptop_data_clean['Ram'] = laptop_data_clean['Ram'].apply(lambda x: clean_string(x, 'G'))\n",
    "\n",
    "#Removing the unit since all of them are Kg, making it numerical instead of string\n",
    "laptop_data_clean['Weight'] = laptop_data_clean['Weight'].apply(lambda x: clean_string(x, 'k'))\n",
    "\n",
    "#Lambda \n",
    "# x = cleanstring(x,'(')"
   ]
  },
  {
   "cell_type": "code",
   "execution_count": 26,
   "id": "556761bc",
   "metadata": {},
   "outputs": [],
   "source": [
    "convertion_rate = 1.57\n",
    "\n",
    "# Function to convert Euros to SGD\n",
    "def convert_eur_to_sgd(amount_eur):\n",
    "    Convert_euros_sgd = amount_eur * convertion_rate\n",
    "    return round(Convert_euros_sgd, 2) \n",
    "\n",
    "# Apply the conversion function to the column\n",
    "laptop_data_clean['Price_euros'] = laptop_data_clean['Price_euros'].apply(convert_eur_to_sgd)\n",
    "laptop_data_clean = laptop_data_clean.rename(columns=({'Price_euros':'Price_sgd'}))"
   ]
  },
  {
   "cell_type": "code",
   "execution_count": 27,
   "id": "de7d3a84",
   "metadata": {},
   "outputs": [],
   "source": [
    "#Converting string to flow for the columns that are in char\n",
    "\n",
    "laptop_data_clean['Ram'] = laptop_data_clean['Ram'].astype('int')\n",
    "laptop_data_clean['Weight'] = laptop_data_clean['Weight'].astype('float')"
   ]
  },
  {
   "cell_type": "code",
   "execution_count": 28,
   "id": "3e7f8b09-66ee-421e-bf5d-ee248d97b879",
   "metadata": {},
   "outputs": [],
   "source": [
    "# Define a function to extract processor information\n",
    "def clean_cpu(cpu):\n",
    "    # Regex to extract Intel Core i5 or i7 or other intel cpus\n",
    "    intel_core_pattern = r'Intel Core i\\d'\n",
    "    intel_other_pattern = r'^Intel.+'\n",
    "    amd_pattern = r'AMD'\n",
    "    \n",
    "    if re.search(intel_core_pattern, cpu):\n",
    "        return re.search(intel_core_pattern, cpu).group()\n",
    "    elif re.search(intel_other_pattern, cpu):\n",
    "        return 'Intel Others'\n",
    "    elif re.search(amd_pattern, cpu):\n",
    "        return re.search(amd_pattern, cpu).group()\n",
    "    else:\n",
    "        return 'Others'  \n",
    "\n",
    "laptop_data_clean['Cpu'] = laptop_data_clean['Cpu'].apply(clean_cpu)"
   ]
  },
  {
   "cell_type": "code",
   "execution_count": 29,
   "id": "79ea58dc-6970-4843-b708-075c28e04d6c",
   "metadata": {},
   "outputs": [],
   "source": [
    "# def filter_intel_gpu(gpu):\n",
    "#     intel_pattern = r'\\bIntel\\b'\n",
    "#     amd_pattern = r'\\bAMD\\b'\n",
    "#     arm_pattern = r'\\bARM\\b'\n",
    "#     nvidia_pattern = r'\\bNvidia GeForce\\b'\n",
    "#     nvidia_gtx_pattern = r'\\bNvidia GeForce GTX\\b'\n",
    "#     nvidia_quadro_pattern = r'\\bNvidia Quadro\\b'\n",
    "    \n",
    "#     if re.search(intel_pattern, gpu):\n",
    "#         return 'Intel'\n",
    "#     elif re.search(amd_pattern, gpu):\n",
    "#         return 'AMD'\n",
    "#     elif re.search(arm_pattern, gpu):\n",
    "#         return 'ARM'\n",
    "#     elif re.search(nvidia_gtx_pattern, gpu):\n",
    "#         return 'Nvidia GeForce GTX'\n",
    "#     elif re.search(nvidia_pattern, gpu):\n",
    "#         return 'Nvidia GeForce'\n",
    "#     elif re.search(nvidia_quadro_pattern, gpu):\n",
    "#         return 'Nvidia Quadro'\n",
    "\n",
    "# laptop_data_clean['Gpu'] = laptop_data_clean['Gpu'].apply(filter_intel_gpu)"
   ]
  },
  {
   "cell_type": "code",
   "execution_count": 30,
   "id": "703b7fb5",
   "metadata": {
    "scrolled": true
   },
   "outputs": [
    {
     "data": {
      "text/html": [
       "<div>\n",
       "<style scoped>\n",
       "    .dataframe tbody tr th:only-of-type {\n",
       "        vertical-align: middle;\n",
       "    }\n",
       "\n",
       "    .dataframe tbody tr th {\n",
       "        vertical-align: top;\n",
       "    }\n",
       "\n",
       "    .dataframe thead th {\n",
       "        text-align: right;\n",
       "    }\n",
       "</style>\n",
       "<table border=\"1\" class=\"dataframe\">\n",
       "  <thead>\n",
       "    <tr style=\"text-align: right;\">\n",
       "      <th></th>\n",
       "      <th>Company</th>\n",
       "      <th>Product</th>\n",
       "      <th>TypeName</th>\n",
       "      <th>Inches</th>\n",
       "      <th>ScreenResolution</th>\n",
       "      <th>Cpu</th>\n",
       "      <th>Ram</th>\n",
       "      <th>Memory</th>\n",
       "      <th>Gpu</th>\n",
       "      <th>OpSys</th>\n",
       "      <th>Weight</th>\n",
       "      <th>Price_sgd</th>\n",
       "    </tr>\n",
       "  </thead>\n",
       "  <tbody>\n",
       "    <tr>\n",
       "      <th>0</th>\n",
       "      <td>Apple</td>\n",
       "      <td>MacBook Pro</td>\n",
       "      <td>Ultrabook</td>\n",
       "      <td>13.3</td>\n",
       "      <td>2560x1600</td>\n",
       "      <td>Intel Core i5</td>\n",
       "      <td>8</td>\n",
       "      <td>128GB SSD</td>\n",
       "      <td>Intel Iris Plus Graphics 640</td>\n",
       "      <td>macOS</td>\n",
       "      <td>1.37</td>\n",
       "      <td>2103.31</td>\n",
       "    </tr>\n",
       "    <tr>\n",
       "      <th>1</th>\n",
       "      <td>Apple</td>\n",
       "      <td>Macbook Air</td>\n",
       "      <td>Ultrabook</td>\n",
       "      <td>13.3</td>\n",
       "      <td>1440x900</td>\n",
       "      <td>Intel Core i5</td>\n",
       "      <td>8</td>\n",
       "      <td>128GB Flash Storage</td>\n",
       "      <td>Intel HD Graphics 6000</td>\n",
       "      <td>macOS</td>\n",
       "      <td>1.34</td>\n",
       "      <td>1411.34</td>\n",
       "    </tr>\n",
       "    <tr>\n",
       "      <th>2</th>\n",
       "      <td>HP</td>\n",
       "      <td>250 G6</td>\n",
       "      <td>Notebook</td>\n",
       "      <td>15.6</td>\n",
       "      <td>1920x1080</td>\n",
       "      <td>Intel Core i5</td>\n",
       "      <td>8</td>\n",
       "      <td>256GB SSD</td>\n",
       "      <td>Intel HD Graphics 620</td>\n",
       "      <td>No OS</td>\n",
       "      <td>1.86</td>\n",
       "      <td>902.75</td>\n",
       "    </tr>\n",
       "    <tr>\n",
       "      <th>3</th>\n",
       "      <td>Apple</td>\n",
       "      <td>MacBook Pro</td>\n",
       "      <td>Ultrabook</td>\n",
       "      <td>15.4</td>\n",
       "      <td>2880x1800</td>\n",
       "      <td>Intel Core i7</td>\n",
       "      <td>16</td>\n",
       "      <td>512GB SSD</td>\n",
       "      <td>AMD Radeon Pro 455</td>\n",
       "      <td>macOS</td>\n",
       "      <td>1.83</td>\n",
       "      <td>3983.80</td>\n",
       "    </tr>\n",
       "    <tr>\n",
       "      <th>4</th>\n",
       "      <td>Apple</td>\n",
       "      <td>MacBook Pro</td>\n",
       "      <td>Ultrabook</td>\n",
       "      <td>13.3</td>\n",
       "      <td>2560x1600</td>\n",
       "      <td>Intel Core i5</td>\n",
       "      <td>8</td>\n",
       "      <td>256GB SSD</td>\n",
       "      <td>Intel Iris Plus Graphics 650</td>\n",
       "      <td>macOS</td>\n",
       "      <td>1.37</td>\n",
       "      <td>2831.65</td>\n",
       "    </tr>\n",
       "  </tbody>\n",
       "</table>\n",
       "</div>"
      ],
      "text/plain": [
       "  Company      Product   TypeName  Inches ScreenResolution            Cpu  \\\n",
       "0   Apple  MacBook Pro  Ultrabook    13.3        2560x1600  Intel Core i5   \n",
       "1   Apple  Macbook Air  Ultrabook    13.3         1440x900  Intel Core i5   \n",
       "2      HP       250 G6   Notebook    15.6        1920x1080  Intel Core i5   \n",
       "3   Apple  MacBook Pro  Ultrabook    15.4        2880x1800  Intel Core i7   \n",
       "4   Apple  MacBook Pro  Ultrabook    13.3        2560x1600  Intel Core i5   \n",
       "\n",
       "   Ram               Memory                           Gpu  OpSys  Weight  \\\n",
       "0    8            128GB SSD  Intel Iris Plus Graphics 640  macOS    1.37   \n",
       "1    8  128GB Flash Storage        Intel HD Graphics 6000  macOS    1.34   \n",
       "2    8            256GB SSD         Intel HD Graphics 620  No OS    1.86   \n",
       "3   16            512GB SSD            AMD Radeon Pro 455  macOS    1.83   \n",
       "4    8            256GB SSD  Intel Iris Plus Graphics 650  macOS    1.37   \n",
       "\n",
       "   Price_sgd  \n",
       "0    2103.31  \n",
       "1    1411.34  \n",
       "2     902.75  \n",
       "3    3983.80  \n",
       "4    2831.65  "
      ]
     },
     "execution_count": 30,
     "metadata": {},
     "output_type": "execute_result"
    }
   ],
   "source": [
    "laptop_data_clean.head()"
   ]
  },
  {
   "cell_type": "code",
   "execution_count": 31,
   "id": "1afb90f6-fc28-449c-9ef9-3d4cf026fe03",
   "metadata": {},
   "outputs": [],
   "source": [
    "laptop_data_clean.to_csv('laptop_data_clean.csv', index=False)"
   ]
  },
  {
   "cell_type": "code",
   "execution_count": null,
   "id": "5e454599-227d-49e8-8397-32faf30481bd",
   "metadata": {},
   "outputs": [],
   "source": []
  }
 ],
 "metadata": {
  "kernelspec": {
   "display_name": "Python 3 (ipykernel)",
   "language": "python",
   "name": "python3"
  },
  "language_info": {
   "codemirror_mode": {
    "name": "ipython",
    "version": 3
   },
   "file_extension": ".py",
   "mimetype": "text/x-python",
   "name": "python",
   "nbconvert_exporter": "python",
   "pygments_lexer": "ipython3",
   "version": "3.10.4"
  }
 },
 "nbformat": 4,
 "nbformat_minor": 5
}
